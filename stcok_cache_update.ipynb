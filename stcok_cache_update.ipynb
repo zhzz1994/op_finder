{
 "cells": [
  {
   "cell_type": "code",
   "execution_count": null,
   "metadata": {},
   "outputs": [],
   "source": [
    "from python.data_download import KlineDataset\n",
    "from python.drawer import IndexSelecter, StockSelecter"
   ]
  },
  {
   "cell_type": "code",
   "execution_count": null,
   "metadata": {},
   "outputs": [],
   "source": [
    "dataset = KlineDataset(dic=\"datas/waizao\")\n",
    "stcok_selecter = StockSelecter(dataset)\n",
    "# stcok_selecter.draw_all()\n",
    "stcok_selecter.add_cache(\"603893\")\n",
    "stcok_selecter.add_cache(\"603486\")\n",
    "stcok_selecter.add_cache(\"688169\")"
   ]
  },
  {
   "cell_type": "code",
   "execution_count": null,
   "metadata": {},
   "outputs": [],
   "source": [
    "stcok_selecter.draw()"
   ]
  }
 ],
 "metadata": {
  "kernelspec": {
   "display_name": "Python 3.9.12 ('base')",
   "language": "python",
   "name": "python3"
  },
  "language_info": {
   "codemirror_mode": {
    "name": "ipython",
    "version": 3
   },
   "file_extension": ".py",
   "mimetype": "text/x-python",
   "name": "python",
   "nbconvert_exporter": "python",
   "pygments_lexer": "ipython3",
   "version": "3.9.12"
  },
  "orig_nbformat": 4,
  "vscode": {
   "interpreter": {
    "hash": "5bb3b3ebc34b1906ecb4a4cc5abd83cf44e2e5ca3ae18d4523faabe23cf4e702"
   }
  }
 },
 "nbformat": 4,
 "nbformat_minor": 2
}
