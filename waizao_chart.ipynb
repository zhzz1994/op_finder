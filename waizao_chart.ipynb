{
 "cells": [
  {
   "cell_type": "code",
   "execution_count": null,
   "metadata": {},
   "outputs": [],
   "source": [
    "from python.drawer import CandleDrawer, TurnoverRateDrawer, TurnoverCountDrawer, MACDDrawer, merge_chart\n",
    "from python.data_download.waizao_download import KlineDataset"
   ]
  },
  {
   "cell_type": "code",
   "execution_count": null,
   "metadata": {},
   "outputs": [],
   "source": [
    "kline_dataset = KlineDataset(dic=\"datas/waizao\")\n",
    "klines = kline_dataset.loadStockHSAKline(code=\"603486\")\n",
    "day_line = klines[\"day\"]\n",
    "day_line"
   ]
  },
  {
   "cell_type": "code",
   "execution_count": null,
   "metadata": {},
   "outputs": [],
   "source": [
    "times = [item for item in day_line[\"tdate\"]]\n",
    "candles = [line for line in zip(day_line[\"open\"], day_line[\"close\"], day_line[\"low\"], day_line[\"high\"])]\n",
    "# 换手率\n",
    "turnover_rate = [item for item in day_line[\"hsl\"]]\n",
    "# 成交量\n",
    "turnover_count = [item for item in day_line[\"cjl\"]]\n",
    "\n",
    "\n",
    "data = {\"times\": times, \"candles\": candles, \"turnover_rate\": turnover_rate, \"turnover_count\": turnover_count}"
   ]
  },
  {
   "cell_type": "code",
   "execution_count": null,
   "metadata": {},
   "outputs": [],
   "source": [
    "candle_chart = CandleDrawer(data)\n",
    "candle_chart.render_base_candle()\n",
    "candle_chart.render_ma(5)\n",
    "candle_chart.render_ma(20)\n",
    "candle_chart.render_ema(5)\n",
    "candle_chart.render_ema(20)\n",
    "\n",
    "candle_chart.chart.render_notebook()"
   ]
  },
  {
   "cell_type": "code",
   "execution_count": null,
   "metadata": {},
   "outputs": [],
   "source": [
    "turnovers_rate_chart = TurnoverRateDrawer(data)\n",
    "turnovers_rate_chart.render()\n",
    "\n",
    "turnovers_rate_chart.chart.render_notebook()"
   ]
  },
  {
   "cell_type": "code",
   "execution_count": null,
   "metadata": {},
   "outputs": [],
   "source": [
    "turnovers_count_chart = TurnoverCountDrawer(data)\n",
    "turnovers_count_chart.render()\n",
    "\n",
    "turnovers_count_chart.chart.render_notebook()"
   ]
  },
  {
   "cell_type": "code",
   "execution_count": null,
   "metadata": {},
   "outputs": [],
   "source": [
    "charts = [{\"chart\": candle_chart.chart, \"height\": 600},\n",
    "            # {\"chart\": turnovers_rate_chart.chart, \"height\": 100},\n",
    "            # {\"chart\": turnovers_count_chart.chart, \"height\": 100},\n",
    "        ]\n",
    "grid_chart = merge_chart(charts)\n",
    "grid_chart.render_notebook()"
   ]
  }
 ],
 "metadata": {
  "kernelspec": {
   "display_name": "Python 3.9.12 ('base')",
   "language": "python",
   "name": "python3"
  },
  "language_info": {
   "codemirror_mode": {
    "name": "ipython",
    "version": 3
   },
   "file_extension": ".py",
   "mimetype": "text/x-python",
   "name": "python",
   "nbconvert_exporter": "python",
   "pygments_lexer": "ipython3",
   "version": "3.9.12"
  },
  "orig_nbformat": 4,
  "vscode": {
   "interpreter": {
    "hash": "5bb3b3ebc34b1906ecb4a4cc5abd83cf44e2e5ca3ae18d4523faabe23cf4e702"
   }
  }
 },
 "nbformat": 4,
 "nbformat_minor": 2
}
