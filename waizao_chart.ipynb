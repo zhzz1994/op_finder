{
 "cells": [
  {
   "cell_type": "code",
   "execution_count": null,
   "metadata": {},
   "outputs": [],
   "source": [
    "from python.drawer import CandleDrawer, TurnoverRateDrawer, TurnoverCountDrawer, MACDDrawer, merge_chart, IndexSelecter, StockSelecter, DateSelecter\n",
    "from python.data_download.waizao_download import KlineDataset\n",
    "from python.charts import DayChart"
   ]
  },
  {
   "cell_type": "code",
   "execution_count": null,
   "metadata": {},
   "outputs": [],
   "source": [
    "kline_dataset = KlineDataset(dic=\"datas/waizao\")\n",
    "stock_selecter = StockSelecter(kline_dataset)\n",
    "stock_selecter.draw()\n",
    "index_selecter = IndexSelecter(kline_dataset)\n",
    "index_selecter.draw()\n",
    "date_selecter = DateSelecter()\n",
    "date_selecter.draw()"
   ]
  },
  {
   "cell_type": "code",
   "execution_count": null,
   "metadata": {},
   "outputs": [],
   "source": [
    "index_code = index_selecter.choosen_code()\n",
    "stock_code = stock_selecter.choosen_code()\n",
    "start_date = date_selecter.choosen_date()"
   ]
  },
  {
   "cell_type": "code",
   "execution_count": null,
   "metadata": {},
   "outputs": [],
   "source": [
    "stock = kline_dataset.Index(code=index_code)\n",
    "stock_day = stock[\"day\"]\n",
    "stocks = kline_dataset.Stock(code=stock_code)\n",
    "stock = stocks[\"day\"]"
   ]
  },
  {
   "cell_type": "code",
   "execution_count": null,
   "metadata": {},
   "outputs": [],
   "source": [
    "chart = DayChart(stock)\n",
    "chart.add_reference(stock=stock_day, start_date=start_date)"
   ]
  },
  {
   "cell_type": "code",
   "execution_count": null,
   "metadata": {},
   "outputs": [],
   "source": [
    "chart.candle_chart().render_notebook()"
   ]
  },
  {
   "cell_type": "code",
   "execution_count": null,
   "metadata": {},
   "outputs": [],
   "source": [
    "chart.turnovers_rate_chart().render_notebook()"
   ]
  },
  {
   "cell_type": "code",
   "execution_count": null,
   "metadata": {},
   "outputs": [],
   "source": [
    "chart.turnovers_count_chart().render_notebook()"
   ]
  },
  {
   "cell_type": "code",
   "execution_count": null,
   "metadata": {},
   "outputs": [],
   "source": [
    "chart.macd_chart().render_notebook()"
   ]
  },
  {
   "cell_type": "code",
   "execution_count": null,
   "metadata": {},
   "outputs": [],
   "source": [
    "chart.combine_chart().render_notebook()"
   ]
  }
 ],
 "metadata": {
  "kernelspec": {
   "display_name": "Python 3.9.12 ('base')",
   "language": "python",
   "name": "python3"
  },
  "language_info": {
   "codemirror_mode": {
    "name": "ipython",
    "version": 3
   },
   "file_extension": ".py",
   "mimetype": "text/x-python",
   "name": "python",
   "nbconvert_exporter": "python",
   "pygments_lexer": "ipython3",
   "version": "3.9.12"
  },
  "orig_nbformat": 4,
  "vscode": {
   "interpreter": {
    "hash": "5bb3b3ebc34b1906ecb4a4cc5abd83cf44e2e5ca3ae18d4523faabe23cf4e702"
   }
  }
 },
 "nbformat": 4,
 "nbformat_minor": 2
}
