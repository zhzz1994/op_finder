{
 "cells": [
  {
   "cell_type": "code",
   "execution_count": null,
   "metadata": {},
   "outputs": [],
   "source": [
    "from python.drawer import CandleDrawer, TurnoverRateDrawer, TurnoverCountDrawer, MACDDrawer, merge_chart\n",
    "from python.drawer import IndexSelecter, StockSelecter, DateSelecter, ChartTypeSelecter\n",
    "from python.data_download.waizao_download import KlineDataset\n",
    "from python.charts import DayChart"
   ]
  },
  {
   "cell_type": "code",
   "execution_count": null,
   "metadata": {},
   "outputs": [],
   "source": [
    "kline_dataset = KlineDataset(dic=\"datas/waizao\")\n",
    "index_selecter = IndexSelecter(kline_dataset, name=\"Index\")\n",
    "index_selecter.draw()\n",
    "index_ref_selecter = IndexSelecter(kline_dataset, name=\"Ref\")\n",
    "index_ref_selecter.draw()\n",
    "start_date_selecter = DateSelecter(name=\"Start Date\")\n",
    "start_date_selecter.draw(2010,1,1)\n",
    "sync_date_selecter = DateSelecter(name=\"Sync Date\")\n",
    "sync_date_selecter.draw(2010,1,1)\n",
    "chart_type_selecter = ChartTypeSelecter()\n",
    "chart_type_selecter.draw()"
   ]
  },
  {
   "cell_type": "code",
   "execution_count": null,
   "metadata": {},
   "outputs": [],
   "source": [
    "index_code = index_selecter.choosen_code()\n",
    "index_ref_code = index_ref_selecter.choosen_code()\n",
    "sync_date = sync_date_selecter.choosen_date()\n",
    "start_date = start_date_selecter.choosen_date()\n",
    "chart_type = chart_type_selecter.chart_type()\n",
    "draw_type = chart_type_selecter.draw_type()"
   ]
  },
  {
   "cell_type": "code",
   "execution_count": null,
   "metadata": {},
   "outputs": [],
   "source": [
    "index = kline_dataset.Index(code=index_code)\n",
    "index_day = index[chart_type]\n",
    "index_ref = kline_dataset.Index(code=index_ref_code)\n",
    "index_ref_day = index_ref[chart_type]"
   ]
  },
  {
   "cell_type": "code",
   "execution_count": null,
   "metadata": {},
   "outputs": [],
   "source": [
    "chart = DayChart(index_day, chart_type=draw_type, start_date=start_date)\n",
    "chart.add_reference(stock=index_ref_day, sync_date=sync_date)"
   ]
  },
  {
   "cell_type": "code",
   "execution_count": null,
   "metadata": {},
   "outputs": [],
   "source": [
    "chart.combine_chart().render_notebook()"
   ]
  }
 ],
 "metadata": {
  "kernelspec": {
   "display_name": "Python 3.9.12 ('base')",
   "language": "python",
   "name": "python3"
  },
  "language_info": {
   "codemirror_mode": {
    "name": "ipython",
    "version": 3
   },
   "file_extension": ".py",
   "mimetype": "text/x-python",
   "name": "python",
   "nbconvert_exporter": "python",
   "pygments_lexer": "ipython3",
   "version": "3.9.12"
  },
  "orig_nbformat": 4,
  "vscode": {
   "interpreter": {
    "hash": "5bb3b3ebc34b1906ecb4a4cc5abd83cf44e2e5ca3ae18d4523faabe23cf4e702"
   }
  }
 },
 "nbformat": 4,
 "nbformat_minor": 2
}
