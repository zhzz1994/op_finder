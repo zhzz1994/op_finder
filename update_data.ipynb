{
 "cells": [
  {
   "cell_type": "code",
   "execution_count": null,
   "metadata": {},
   "outputs": [],
   "source": [
    "from python.data_download.waizao_download import StockHSADownloader, GloabalIndexDownloader\n",
    "import requests\n",
    "import pandas as pd"
   ]
  },
  {
   "cell_type": "code",
   "execution_count": null,
   "metadata": {},
   "outputs": [],
   "source": [
    "token = \"xxxx\""
   ]
  },
  {
   "cell_type": "code",
   "execution_count": null,
   "metadata": {},
   "outputs": [],
   "source": [
    "stock_dataset = StockHSADownloader(dic=\"datas/waizao\", token=token)\n",
    "stock_dataset.updateKlineDataset()\n",
    "stock_dataset.loadKline(code=\"000001\")"
   ]
  },
  {
   "cell_type": "code",
   "execution_count": null,
   "metadata": {},
   "outputs": [],
   "source": [
    "index_dataset = GloabalIndexDownloader(dic=\"datas/waizao\",  token=token)\n",
    "index_dataset.updateKlineDataset()\n",
    "index_dataset.loadKline(code=\"000001\")"
   ]
  }
 ],
 "metadata": {
  "kernelspec": {
   "display_name": "Python 3.9.12 ('base')",
   "language": "python",
   "name": "python3"
  },
  "language_info": {
   "codemirror_mode": {
    "name": "ipython",
    "version": 3
   },
   "file_extension": ".py",
   "mimetype": "text/x-python",
   "name": "python",
   "nbconvert_exporter": "python",
   "pygments_lexer": "ipython3",
   "version": "3.9.12"
  },
  "orig_nbformat": 4,
  "vscode": {
   "interpreter": {
    "hash": "5bb3b3ebc34b1906ecb4a4cc5abd83cf44e2e5ca3ae18d4523faabe23cf4e702"
   }
  }
 },
 "nbformat": 4,
 "nbformat_minor": 2
}
