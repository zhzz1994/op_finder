{
 "cells": [
  {
   "cell_type": "code",
   "execution_count": null,
   "metadata": {},
   "outputs": [],
   "source": [
    "from python.drawer import CandleDrawer, TurnoverRateDrawer, TurnoverCountDrawer, MACDDrawer, merge_chart\n",
    "from python.data_download import KlineDataset\n",
    "from python.charts import DayChart"
   ]
  },
  {
   "cell_type": "code",
   "execution_count": null,
   "metadata": {},
   "outputs": [],
   "source": [
    "kline_dataset = KlineDataset(dic=\"datas/waizao\")\n",
    "kewosi_day = kline_dataset.Stock(code=\"603486\")[\"day\"]\n",
    "shito_day = kline_dataset.Stock(code=\"688169\")[\"day\"]"
   ]
  },
  {
   "cell_type": "code",
   "execution_count": null,
   "metadata": {},
   "outputs": [],
   "source": [
    "dates = kewosi_day.times and shito_day.times\n",
    "kewosi_day.sync_times(dates)\n",
    "shito_day.sync_times(dates)\n",
    "kewosi_chart = DayChart(kewosi_day)\n",
    "shito_chart = DayChart(shito_day)"
   ]
  },
  {
   "cell_type": "code",
   "execution_count": null,
   "metadata": {},
   "outputs": [],
   "source": [
    "# kewosi_chart.combine_chart().render_notebook()"
   ]
  },
  {
   "cell_type": "code",
   "execution_count": null,
   "metadata": {},
   "outputs": [],
   "source": [
    "# shito_chart.combine_chart().render_notebook()"
   ]
  },
  {
   "cell_type": "code",
   "execution_count": null,
   "metadata": {},
   "outputs": [],
   "source": [
    "charts = [{\"chart\": kewosi_chart.candle_chart(min=15, max=300), \"height\": 400},\n",
    "            {\"chart\": shito_chart.candle_chart(min=150, max=3000), \"height\": 400},\n",
    "        ]\n",
    "duet_chart = merge_chart(charts)\n",
    "duet_chart.render_notebook()"
   ]
  }
 ],
 "metadata": {
  "kernelspec": {
   "display_name": "Python 3.9.12 ('base')",
   "language": "python",
   "name": "python3"
  },
  "language_info": {
   "codemirror_mode": {
    "name": "ipython",
    "version": 3
   },
   "file_extension": ".py",
   "mimetype": "text/x-python",
   "name": "python",
   "nbconvert_exporter": "python",
   "pygments_lexer": "ipython3",
   "version": "3.9.12"
  },
  "orig_nbformat": 4,
  "vscode": {
   "interpreter": {
    "hash": "5bb3b3ebc34b1906ecb4a4cc5abd83cf44e2e5ca3ae18d4523faabe23cf4e702"
   }
  }
 },
 "nbformat": 4,
 "nbformat_minor": 2
}
